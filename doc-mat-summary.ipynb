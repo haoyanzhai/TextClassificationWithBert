{
 "cells": [
  {
   "cell_type": "code",
   "execution_count": 1,
   "id": "b497056e",
   "metadata": {},
   "outputs": [],
   "source": [
    "import pandas as pd"
   ]
  },
  {
   "cell_type": "code",
   "execution_count": null,
   "id": "70ff9b7c",
   "metadata": {},
   "outputs": [],
   "source": [
    "df_ori = pd.read_csv('./doc_mat.csv').dropna()"
   ]
  },
  {
   "cell_type": "code",
   "execution_count": null,
   "id": "a812c558",
   "metadata": {},
   "outputs": [],
   "source": [
    "def data_clean(data):\n",
    "    data = data.split('writes:')[-1]\n",
    "    data = data.replace('|>', '').replace('>|', '').replace('>', '')\n",
    "    data = ' '.join(data.split())\n",
    "    return data"
   ]
  },
  {
   "cell_type": "code",
   "execution_count": null,
   "id": "cc0a6584",
   "metadata": {},
   "outputs": [],
   "source": [
    "df_ori['data'] = df_ori['text'].apply(data_clean)"
   ]
  },
  {
   "cell_type": "code",
   "execution_count": null,
   "id": "d7fe4c54",
   "metadata": {},
   "outputs": [],
   "source": [
    "from sklearn.model_selection import train_test_split\n",
    "df_train, df_test = train_test_split(df_ori, test_size=0.33, random_state=2023)"
   ]
  },
  {
   "cell_type": "code",
   "execution_count": null,
   "id": "fcc96d23",
   "metadata": {},
   "outputs": [],
   "source": [
    "label_mapping = {val: key for key, val in dict(enumerate(set(df_train['label']))).items()}\n",
    "df_train['label1'] = df_train['label'].map(label_mapping)\n",
    "df_test['label1'] = df_test['label'].map(label_mapping)"
   ]
  },
  {
   "cell_type": "code",
   "execution_count": null,
   "id": "2ce9eebb",
   "metadata": {},
   "outputs": [],
   "source": [
    "df_test.to_parquet('./doc_mat_test.parquet')\n",
    "df_train.to_parquet('./doc_mat_train.parquet')"
   ]
  },
  {
   "cell_type": "code",
   "execution_count": 2,
   "id": "3d8a5479",
   "metadata": {},
   "outputs": [],
   "source": [
    "df_train = pd.read_parquet('./doc_mat_train.parquet')"
   ]
  },
  {
   "cell_type": "code",
   "execution_count": 7,
   "id": "9bf4a175",
   "metadata": {},
   "outputs": [
    {
     "name": "stdout",
     "output_type": "stream",
     "text": [
      "Xref: cantaloupe.srv.cs.cmu.edu alt.atheism:53507 talk.religion.misc:83878 talk.origins:40984\n",
      "Newsgroups: alt.atheism,talk.religion.misc,talk.origins\n",
      "Path: cantaloupe.srv.cs.cmu.edu!das-news.harvard.edu!noc.near.net!howland.reston.ans.net!zaphod.mps.ohio-state.edu!uwm.edu!linac!att!att!allegra!ulysses!ulysses.att.com!mls\n",
      "From: mls@ulysses.att.com (Michael L. Siemon)\n",
      "Subject: Re: Albert Sabin\n",
      "Message-ID: <1993Apr23.134601.377@ulysses.att.com>\n",
      "Date: Fri, 23 Apr 1993 13:46:01 GMT\n",
      "References: <1r67ruINNmle@ctron-news.ctron.com>\n",
      "Organization: AT&T Bell Labs, Murray Hill, NJ, USA\n",
      "Lines: 20\n",
      "\n",
      "In article <1r67ruINNmle@ctron-news.ctron.com> king@ctron.com (John E. King) writes:\n",
      ">\n",
      ">rfox@charlie.usd.edu writes:\n",
      ">\n",
      ">[Discussion on Josephus inserts]\n",
      ">\n",
      ">Thanks.  Am I correct, then, in assuming that that Josephus\n",
      ">did in fact write about Jesus, but Christian copists embellished it?\n",
      "\n",
      "\"Correct\" overstates the case.  The whole point of the discussions\n",
      "has been that it is *reasonable* to assume that there was some brief\n",
      "reference to Jesus that has been doctored.  By consensus, this is\n",
      "the *most* reasonable of the proposed solutions -- but not so much\n",
      "so as to rule out complete fabrication.\n",
      "\n",
      "--\n",
      "Michael L. Siemon\t\t\"Stand, stand at the window\n",
      "mls@panix.com\t\t \t    As the tears scald and start.\n",
      "mls@ulysses.att.com\t \tYou shall love your crooked neighbor\n",
      "-standard disclaimer- \t \t    With your crooked heart.\"\n",
      "\n"
     ]
    }
   ],
   "source": [
    "print(df_train['text'].iloc[0])"
   ]
  },
  {
   "cell_type": "code",
   "execution_count": 8,
   "id": "0aeae107",
   "metadata": {},
   "outputs": [
    {
     "name": "stdout",
     "output_type": "stream",
     "text": [
      "[Discussion on Josephus inserts] Thanks. Am I correct, then, in assuming that that Josephus did in fact write about Jesus, but Christian copists embellished it? \"Correct\" overstates the case. The whole point of the discussions has been that it is *reasonable* to assume that there was some brief reference to Jesus that has been doctored. By consensus, this is the *most* reasonable of the proposed solutions -- but not so much so as to rule out complete fabrication. -- Michael L. Siemon \"Stand, stand at the window mls@panix.com As the tears scald and start. mls@ulysses.att.com You shall love your crooked neighbor -standard disclaimer- With your crooked heart.\"\n"
     ]
    }
   ],
   "source": [
    "print(df_train['data'].iloc[0])"
   ]
  },
  {
   "cell_type": "code",
   "execution_count": null,
   "id": "b4823769",
   "metadata": {},
   "outputs": [],
   "source": []
  },
  {
   "cell_type": "code",
   "execution_count": null,
   "id": "a8d864a2",
   "metadata": {},
   "outputs": [],
   "source": []
  },
  {
   "cell_type": "code",
   "execution_count": null,
   "id": "5d5143d7",
   "metadata": {},
   "outputs": [],
   "source": []
  }
 ],
 "metadata": {
  "kernelspec": {
   "display_name": "pytorch-cuda",
   "language": "python",
   "name": "pytorch-cuda"
  },
  "language_info": {
   "codemirror_mode": {
    "name": "ipython",
    "version": 3
   },
   "file_extension": ".py",
   "mimetype": "text/x-python",
   "name": "python",
   "nbconvert_exporter": "python",
   "pygments_lexer": "ipython3",
   "version": "3.9.16"
  }
 },
 "nbformat": 4,
 "nbformat_minor": 5
}
