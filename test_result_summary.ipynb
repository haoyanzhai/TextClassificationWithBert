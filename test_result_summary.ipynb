{
 "cells": [
  {
   "cell_type": "code",
   "execution_count": 1,
   "id": "8e3ea13d",
   "metadata": {},
   "outputs": [],
   "source": [
    "import numpy as np\n",
    "import pandas as pd"
   ]
  },
  {
   "cell_type": "code",
   "execution_count": 2,
   "id": "5e9fdb8e",
   "metadata": {},
   "outputs": [],
   "source": [
    "res = np.load('./reuter.npy')\n",
    "df_test = pd.read_parquet('./reuters_test.parquet')"
   ]
  },
  {
   "cell_type": "code",
   "execution_count": 8,
   "id": "63adcef4",
   "metadata": {},
   "outputs": [],
   "source": [
    "res = np.load('./doc_mat.npy')\n",
    "df_test = pd.read_parquet('./doc_mat_test.parquet')"
   ]
  },
  {
   "cell_type": "code",
   "execution_count": 9,
   "id": "1cab5daf",
   "metadata": {},
   "outputs": [
    {
     "data": {
      "text/html": [
       "<div>\n",
       "<style scoped>\n",
       "    .dataframe tbody tr th:only-of-type {\n",
       "        vertical-align: middle;\n",
       "    }\n",
       "\n",
       "    .dataframe tbody tr th {\n",
       "        vertical-align: top;\n",
       "    }\n",
       "\n",
       "    .dataframe thead th {\n",
       "        text-align: right;\n",
       "    }\n",
       "</style>\n",
       "<table border=\"1\" class=\"dataframe\">\n",
       "  <thead>\n",
       "    <tr style=\"text-align: right;\">\n",
       "      <th></th>\n",
       "      <th>text</th>\n",
       "      <th>label</th>\n",
       "      <th>data</th>\n",
       "      <th>label1</th>\n",
       "    </tr>\n",
       "  </thead>\n",
       "  <tbody>\n",
       "    <tr>\n",
       "      <th>11769</th>\n",
       "      <td>Newsgroups: comp.windows.x\\nPath: cantaloupe.s...</td>\n",
       "      <td>comp.windows.x</td>\n",
       "      <td>Newsgroups: comp.windows.x Path: cantaloupe.sr...</td>\n",
       "      <td>18</td>\n",
       "    </tr>\n",
       "    <tr>\n",
       "      <th>8807</th>\n",
       "      <td>Path: cantaloupe.srv.cs.cmu.edu!crabapple.srv....</td>\n",
       "      <td>sci.med</td>\n",
       "      <td>Path: cantaloupe.srv.cs.cmu.edu!crabapple.srv....</td>\n",
       "      <td>15</td>\n",
       "    </tr>\n",
       "    <tr>\n",
       "      <th>18236</th>\n",
       "      <td>Newsgroups: us.wanted.misc,ba.forsale,aus.fors...</td>\n",
       "      <td>misc.forsale</td>\n",
       "      <td>Newsgroups: us.wanted.misc,ba.forsale,aus.fors...</td>\n",
       "      <td>10</td>\n",
       "    </tr>\n",
       "    <tr>\n",
       "      <th>9031</th>\n",
       "      <td>Xref: cantaloupe.srv.cs.cmu.edu alt.conspiracy...</td>\n",
       "      <td>talk.politics.misc</td>\n",
       "      <td>They used a tank to knock a hole in the wall, ...</td>\n",
       "      <td>14</td>\n",
       "    </tr>\n",
       "    <tr>\n",
       "      <th>17238</th>\n",
       "      <td>Path: cantaloupe.srv.cs.cmu.edu!das-news.harva...</td>\n",
       "      <td>soc.religion.christian</td>\n",
       "      <td>But recently I read Peter Brown's _Body and So...</td>\n",
       "      <td>1</td>\n",
       "    </tr>\n",
       "    <tr>\n",
       "      <th>...</th>\n",
       "      <td>...</td>\n",
       "      <td>...</td>\n",
       "      <td>...</td>\n",
       "      <td>...</td>\n",
       "    </tr>\n",
       "    <tr>\n",
       "      <th>10901</th>\n",
       "      <td>Newsgroups: rec.motorcycles\\nPath: cantaloupe....</td>\n",
       "      <td>rec.motorcycles</td>\n",
       "      <td>| |This was changed here in Louisiana when a g...</td>\n",
       "      <td>7</td>\n",
       "    </tr>\n",
       "    <tr>\n",
       "      <th>10</th>\n",
       "      <td>Xref: cantaloupe.srv.cs.cmu.edu soc.culture.tu...</td>\n",
       "      <td>talk.politics.mideast</td>\n",
       "      <td>Xref: cantaloupe.srv.cs.cmu.edu soc.culture.tu...</td>\n",
       "      <td>19</td>\n",
       "    </tr>\n",
       "    <tr>\n",
       "      <th>8138</th>\n",
       "      <td>Newsgroups: sci.med\\nPath: cantaloupe.srv.cs.c...</td>\n",
       "      <td>sci.med</td>\n",
       "      <td>Newsgroups: sci.med Path: cantaloupe.srv.cs.cm...</td>\n",
       "      <td>15</td>\n",
       "    </tr>\n",
       "    <tr>\n",
       "      <th>9121</th>\n",
       "      <td>Path: cantaloupe.srv.cs.cmu.edu!crabapple.srv....</td>\n",
       "      <td>talk.politics.misc</td>\n",
       "      <td># |## |#2. Professors get summers off; industr...</td>\n",
       "      <td>14</td>\n",
       "    </tr>\n",
       "    <tr>\n",
       "      <th>40</th>\n",
       "      <td>Newsgroups: talk.politics.mideast\\nPath: canta...</td>\n",
       "      <td>talk.politics.mideast</td>\n",
       "      <td>Newsgroups: talk.politics.mideast Path: cantal...</td>\n",
       "      <td>19</td>\n",
       "    </tr>\n",
       "  </tbody>\n",
       "</table>\n",
       "<p>6575 rows × 4 columns</p>\n",
       "</div>"
      ],
      "text/plain": [
       "                                                    text  \\\n",
       "11769  Newsgroups: comp.windows.x\\nPath: cantaloupe.s...   \n",
       "8807   Path: cantaloupe.srv.cs.cmu.edu!crabapple.srv....   \n",
       "18236  Newsgroups: us.wanted.misc,ba.forsale,aus.fors...   \n",
       "9031   Xref: cantaloupe.srv.cs.cmu.edu alt.conspiracy...   \n",
       "17238  Path: cantaloupe.srv.cs.cmu.edu!das-news.harva...   \n",
       "...                                                  ...   \n",
       "10901  Newsgroups: rec.motorcycles\\nPath: cantaloupe....   \n",
       "10     Xref: cantaloupe.srv.cs.cmu.edu soc.culture.tu...   \n",
       "8138   Newsgroups: sci.med\\nPath: cantaloupe.srv.cs.c...   \n",
       "9121   Path: cantaloupe.srv.cs.cmu.edu!crabapple.srv....   \n",
       "40     Newsgroups: talk.politics.mideast\\nPath: canta...   \n",
       "\n",
       "                        label  \\\n",
       "11769          comp.windows.x   \n",
       "8807                  sci.med   \n",
       "18236            misc.forsale   \n",
       "9031       talk.politics.misc   \n",
       "17238  soc.religion.christian   \n",
       "...                       ...   \n",
       "10901         rec.motorcycles   \n",
       "10      talk.politics.mideast   \n",
       "8138                  sci.med   \n",
       "9121       talk.politics.misc   \n",
       "40      talk.politics.mideast   \n",
       "\n",
       "                                                    data  label1  \n",
       "11769  Newsgroups: comp.windows.x Path: cantaloupe.sr...      18  \n",
       "8807   Path: cantaloupe.srv.cs.cmu.edu!crabapple.srv....      15  \n",
       "18236  Newsgroups: us.wanted.misc,ba.forsale,aus.fors...      10  \n",
       "9031   They used a tank to knock a hole in the wall, ...      14  \n",
       "17238  But recently I read Peter Brown's _Body and So...       1  \n",
       "...                                                  ...     ...  \n",
       "10901  | |This was changed here in Louisiana when a g...       7  \n",
       "10     Xref: cantaloupe.srv.cs.cmu.edu soc.culture.tu...      19  \n",
       "8138   Newsgroups: sci.med Path: cantaloupe.srv.cs.cm...      15  \n",
       "9121   # |## |#2. Professors get summers off; industr...      14  \n",
       "40     Newsgroups: talk.politics.mideast Path: cantal...      19  \n",
       "\n",
       "[6575 rows x 4 columns]"
      ]
     },
     "execution_count": 9,
     "metadata": {},
     "output_type": "execute_result"
    }
   ],
   "source": [
    "df_test"
   ]
  },
  {
   "cell_type": "code",
   "execution_count": 10,
   "id": "87f56589",
   "metadata": {},
   "outputs": [
    {
     "data": {
      "text/plain": [
       "array([[1.3139193e-04, 7.1855255e-05, 9.8175718e-05, ..., 4.4147608e-05,\n",
       "        9.9878150e-01, 1.8741775e-05],\n",
       "       [1.3742890e-04, 4.9411403e-05, 3.5395817e-05, ..., 2.4549830e-05,\n",
       "        4.9997707e-05, 3.5409219e-05],\n",
       "       [4.9100105e-05, 8.5880725e-05, 6.5839624e-05, ..., 1.7461034e-04,\n",
       "        6.3322121e-05, 2.2932461e-05],\n",
       "       ...,\n",
       "       [1.3207505e-04, 5.1516789e-05, 3.6974674e-05, ..., 2.5354855e-05,\n",
       "        5.4514589e-05, 3.3920289e-05],\n",
       "       [7.5581927e-05, 2.9856112e-04, 4.4485624e-04, ..., 6.1256927e-05,\n",
       "        4.8613333e-04, 6.5024197e-04],\n",
       "       [7.0151145e-05, 6.9719033e-05, 8.6574226e-05, ..., 1.1816920e-04,\n",
       "        4.9341637e-05, 9.9709940e-01]], dtype=float32)"
      ]
     },
     "execution_count": 10,
     "metadata": {},
     "output_type": "execute_result"
    }
   ],
   "source": [
    "res"
   ]
  },
  {
   "cell_type": "code",
   "execution_count": 11,
   "id": "54d69312",
   "metadata": {},
   "outputs": [],
   "source": [
    "df_test['pred'] = res.argmax(axis=1)"
   ]
  },
  {
   "cell_type": "code",
   "execution_count": 12,
   "id": "6909ea1b",
   "metadata": {},
   "outputs": [
    {
     "data": {
      "text/plain": [
       "0.8930798479087453"
      ]
     },
     "execution_count": 12,
     "metadata": {},
     "output_type": "execute_result"
    }
   ],
   "source": [
    "(df_test['label1'] == df_test['pred']).sum() / df_test.shape[0]"
   ]
  },
  {
   "cell_type": "code",
   "execution_count": null,
   "id": "f4922b0f",
   "metadata": {},
   "outputs": [],
   "source": []
  },
  {
   "cell_type": "code",
   "execution_count": null,
   "id": "b69a53af",
   "metadata": {},
   "outputs": [],
   "source": []
  },
  {
   "cell_type": "code",
   "execution_count": null,
   "id": "c48ea830",
   "metadata": {},
   "outputs": [],
   "source": []
  },
  {
   "cell_type": "code",
   "execution_count": null,
   "id": "17a8609f",
   "metadata": {},
   "outputs": [],
   "source": []
  },
  {
   "cell_type": "code",
   "execution_count": null,
   "id": "f231e044",
   "metadata": {},
   "outputs": [],
   "source": []
  },
  {
   "cell_type": "code",
   "execution_count": null,
   "id": "6ef7dfc5",
   "metadata": {},
   "outputs": [],
   "source": []
  }
 ],
 "metadata": {
  "kernelspec": {
   "display_name": "pytorch-cuda",
   "language": "python",
   "name": "pytorch-cuda"
  },
  "language_info": {
   "codemirror_mode": {
    "name": "ipython",
    "version": 3
   },
   "file_extension": ".py",
   "mimetype": "text/x-python",
   "name": "python",
   "nbconvert_exporter": "python",
   "pygments_lexer": "ipython3",
   "version": "3.9.16"
  }
 },
 "nbformat": 4,
 "nbformat_minor": 5
}
